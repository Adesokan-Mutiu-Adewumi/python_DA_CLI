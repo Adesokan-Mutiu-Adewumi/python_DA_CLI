{
 "cells": [
  {
   "cell_type": "markdown",
   "metadata": {},
   "source": [
    "# Python for data analysis 1\n",
    "\n",
    "### Course Content:\n",
    "\n",
    "* Recap of the basics \n",
    "* Data Wrangling with Pandas and Numpy\n",
    "* Data Visualisation with Seaborn, plotly, matplotlib\n",
    "* Statistical Analysis with Scipy, Statsmodel\n",
    "* Data Modelling with Sklearn\n",
    "* Projects"
   ]
  },
  {
   "cell_type": "markdown",
   "metadata": {},
   "source": [
    "### Racaping the Basics"
   ]
  },
  {
   "cell_type": "code",
   "execution_count": 3,
   "metadata": {},
   "outputs": [
    {
     "name": "stdout",
     "output_type": "stream",
     "text": [
      "1\n",
      "2\n",
      "3\n",
      "4\n",
      "5\n",
      "6\n",
      "7\n",
      "8\n",
      "9\n"
     ]
    }
   ],
   "source": [
    "for i in range(1, 10):\n",
    "    print(i)"
   ]
  },
  {
   "cell_type": "code",
   "execution_count": 4,
   "metadata": {},
   "outputs": [
    {
     "name": "stdout",
     "output_type": "stream",
     "text": [
      "1\n",
      "2\n",
      "3\n",
      "4\n",
      "5\n",
      "6\n",
      "7\n",
      "8\n",
      "9\n"
     ]
    }
   ],
   "source": [
    "num = 1 # sentinel condition or break condition\n",
    "\n",
    "while num < 10:\n",
    "    print(num)\n",
    "    num += 1"
   ]
  },
  {
   "cell_type": "code",
   "execution_count": 5,
   "metadata": {},
   "outputs": [
    {
     "data": {
      "text/plain": [
       "10"
      ]
     },
     "execution_count": 5,
     "metadata": {},
     "output_type": "execute_result"
    }
   ],
   "source": [
    "# write a function that returns the lcm of two numbers\n",
    "\n",
    "def get_lcm(x, y):\n",
    "\n",
    "    # checking the larger number\n",
    "    if x > y:\n",
    "        greater = x\n",
    "    else:\n",
    "        greater = y\n",
    "\n",
    "    while True:\n",
    "        if greater % x == 0 and greater % y == 0:\n",
    "            return greater\n",
    "        else:\n",
    "            greater += 1\n",
    "\n",
    "get_lcm(2, 5)\n"
   ]
  },
  {
   "cell_type": "code",
   "execution_count": 6,
   "metadata": {},
   "outputs": [
    {
     "name": "stdout",
     "output_type": "stream",
     "text": [
      "Hi Mutiu, your reward is 85.0\n"
     ]
    }
   ],
   "source": [
    "# write a student reward program that gifts students based on their score\n",
    "\n",
    "name = input('Enter your name: ')\n",
    "score = int(input('Enter your score: '))\n",
    "reward = 850/score\n",
    "\n",
    "print(f'Hi {name}, your reward is {reward}')"
   ]
  },
  {
   "cell_type": "code",
   "execution_count": 7,
   "metadata": {},
   "outputs": [
    {
     "name": "stdout",
     "output_type": "stream",
     "text": [
      "Hi Muitu, your reward is 42.5\n",
      "Hi Wale, your reward is 21.25\n",
      "Thank you\n"
     ]
    }
   ],
   "source": [
    "while True:\n",
    "    name = input('Enter your name: ')\n",
    "    if name != 'stop':\n",
    "        score = int(input('Enter your score: '))\n",
    "        reward = 850/score\n",
    "        print(f'Hi {name}, your reward is {reward}')\n",
    "    else:\n",
    "        print('Thank you')\n",
    "        break"
   ]
  },
  {
   "cell_type": "code",
   "execution_count": 10,
   "metadata": {},
   "outputs": [
    {
     "name": "stdout",
     "output_type": "stream",
     "text": [
      "Hi Mutiu, your reward is 85.0\n",
      "Thank you\n"
     ]
    }
   ],
   "source": [
    "while True:\n",
    "    name = input('Enter your name: ')\n",
    "    if name.lower() != 'stop': # lower convert whatever cases enter into lower case. \n",
    "        score = int(input('Enter your score: '))\n",
    "        try: \n",
    "            reward = 850/score\n",
    "            print(f'Hi {name}, your reward is {reward}')\n",
    "        except ZeroDivisionError:\n",
    "            print('Nawa for you')\n",
    "    else:\n",
    "        print('Thank you')\n",
    "        break"
   ]
  },
  {
   "cell_type": "code",
   "execution_count": 12,
   "metadata": {},
   "outputs": [
    {
     "name": "stdout",
     "output_type": "stream",
     "text": [
      "7\n",
      "14\n",
      "21\n",
      "28\n"
     ]
    }
   ],
   "source": [
    "# write a program that returns all the numbers that are divisible by 7 between 1 and 30\n",
    "\n",
    "for i in range (1, 31):\n",
    "    if i % 7 == 0:\n",
    "        print(i)"
   ]
  },
  {
   "cell_type": "code",
   "execution_count": 14,
   "metadata": {},
   "outputs": [
    {
     "data": {
      "text/plain": [
       "[7, 14, 21, 28]"
      ]
     },
     "execution_count": 14,
     "metadata": {},
     "output_type": "execute_result"
    }
   ],
   "source": [
    "multiple = []\n",
    "for i in range(1, 31):\n",
    "    if i % 7 == 0:\n",
    "        multiple.append(i)\n",
    "    else:\n",
    "        pass\n",
    "multiple"
   ]
  },
  {
   "cell_type": "code",
   "execution_count": 16,
   "metadata": {},
   "outputs": [
    {
     "data": {
      "text/plain": [
       "[7, 14, 21, 28]"
      ]
     },
     "execution_count": 16,
     "metadata": {},
     "output_type": "execute_result"
    }
   ],
   "source": [
    "# List comprehension\n",
    "\n",
    "[x for x in range(1, 31) if x % 7 == 0]"
   ]
  },
  {
   "cell_type": "code",
   "execution_count": 17,
   "metadata": {},
   "outputs": [
    {
     "name": "stdout",
     "output_type": "stream",
     "text": [
      "[7, 14, 21, 28]\n"
     ]
    }
   ],
   "source": [
    "multis = [x for x in range(1, 31) if x % 7 == 0]\n",
    "print(multis)"
   ]
  },
  {
   "cell_type": "code",
   "execution_count": 20,
   "metadata": {},
   "outputs": [
    {
     "name": "stdout",
     "output_type": "stream",
     "text": [
      "[7, 14, 21, 28]\n"
     ]
    },
    {
     "data": {
      "text/plain": [
       "['odd', 'even', 'odd', 'even']"
      ]
     },
     "execution_count": 20,
     "metadata": {},
     "output_type": "execute_result"
    }
   ],
   "source": [
    "multis = [x for x in range(1, 31) if x % 7 == 0]\n",
    "print(multis)\n",
    "['even' if x % 2 == 0 else 'odd' for x in multis]"
   ]
  },
  {
   "cell_type": "code",
   "execution_count": 32,
   "metadata": {},
   "outputs": [
    {
     "name": "stdout",
     "output_type": "stream",
     "text": [
      "[12, 24, 36, 48, 60, 72, 84, 96]\n",
      "8\n"
     ]
    }
   ],
   "source": [
    "# write a program that returns total number of numbers between 1 and 100 that are divisible by 3 and 4\n",
    "\n",
    "\n",
    "Total_Number = []\n",
    "\n",
    "for x in range(1,101):\n",
    "    if x % 3 == 0 and x % 4 == 0:\n",
    "       Total_Number.append(x)\n",
    "    else:\n",
    "        pass\n",
    "Total_Number\n",
    "print(Total_Number)\n",
    "print(len(Total_Number))"
   ]
  },
  {
   "cell_type": "code",
   "execution_count": 22,
   "metadata": {},
   "outputs": [
    {
     "name": "stdout",
     "output_type": "stream",
     "text": [
      "[12, 24, 36, 48, 60, 72, 84, 96]\n",
      "8\n"
     ]
    }
   ],
   "source": [
    "y = [x for x in range(1,101) if x % 3 == 0 and x % 4 == 0]\n",
    "print(y)\n",
    "print(len(y))\n"
   ]
  }
 ],
 "metadata": {
  "kernelspec": {
   "display_name": "Python 3",
   "language": "python",
   "name": "python3"
  },
  "language_info": {
   "codemirror_mode": {
    "name": "ipython",
    "version": 3
   },
   "file_extension": ".py",
   "mimetype": "text/x-python",
   "name": "python",
   "nbconvert_exporter": "python",
   "pygments_lexer": "ipython3",
   "version": "3.10.11"
  }
 },
 "nbformat": 4,
 "nbformat_minor": 2
}
